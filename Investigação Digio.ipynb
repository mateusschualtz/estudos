{
 "cells": [
  {
   "cell_type": "markdown",
   "metadata": {},
   "source": [
    "# Setup"
   ]
  },
  {
   "cell_type": "code",
   "execution_count": 1,
   "metadata": {},
   "outputs": [],
   "source": [
    "#Analise Descritiva \n",
    "import pandas as pd\n",
    "import numpy as np\n",
    "\n",
    "#Data Viz\n",
    "import matplotlib.pyplot as plt\n",
    "import seaborn as sns\n",
    "import plotly.express as px\n",
    "import plotly.graph_objects as go\n",
    "from plotly.subplots import make_subplots\n",
    "from ipywidgets import interact\n",
    "\n",
    "\n",
    "\n",
    "from sqlalchemy import create_engine, inspect, text\n",
    "import os"
   ]
  },
  {
   "cell_type": "code",
   "execution_count": 2,
   "metadata": {},
   "outputs": [],
   "source": [
    "engine = create_engine(os.environ[\"REDSHIFT_READ_URI\"], echo=False)\n",
    "\n",
    "def sql_df(query):\n",
    "  with engine.connect() as conexao:\n",
    "    consulta = conexao.execute(text(query))\n",
    "    dados = consulta.fetchall()\n",
    "  df = pd.DataFrame(dados, columns= consulta.keys())\n",
    "  return df"
   ]
  },
  {
   "cell_type": "code",
   "execution_count": 3,
   "metadata": {},
   "outputs": [],
   "source": [
    "pd.set_option('display.float_format', lambda x: '{:.0f}'.format(x))"
   ]
  },
  {
   "cell_type": "markdown",
   "metadata": {},
   "source": [
    "# Bases"
   ]
  },
  {
   "cell_type": "code",
   "execution_count": 12,
   "metadata": {},
   "outputs": [],
   "source": [
    "com = pd.read_fwf(\"C:\\\\Users\\\\mateus.schualtz\\\\Downloads\\\\REM_CONTRATOS_WHITELIST_20240807_032359.txt\", encoding='latin1')\n",
    "com.rename(columns={'REMESSA_CONTRATOS_ASSESSORIA':'BASE'}, inplace=True)\n",
    "com = com[['BASE']]"
   ]
  },
  {
   "cell_type": "code",
   "execution_count": 13,
   "metadata": {},
   "outputs": [],
   "source": [
    "query = ''' \n",
    "\n",
    "select \n",
    "document\n",
    "from quiteja_lake.deal d \n",
    "left join quiteja_lake_restrict.customer c on d.customer_id = c.id \n",
    "where creditor_id = 39 and d.last_import_at::date = '2024-08-07'\n",
    "'''"
   ]
  },
  {
   "cell_type": "code",
   "execution_count": 14,
   "metadata": {},
   "outputs": [],
   "source": [
    "importacao = sql_df(query)\n",
    "importacao.rename(columns={'document':'Importados'}, inplace=True)"
   ]
  },
  {
   "cell_type": "code",
   "execution_count": 15,
   "metadata": {},
   "outputs": [],
   "source": [
    "consolidacao = pd.read_fwf(\"C:\\\\Users\\\\mateus.schualtz\\\\Downloads\\\\REM_CONTRATOS_WHITELIST_20240808_032407.txt\", encoding='latin1')\n",
    "consolidacao.rename(columns={'REMESSA_CONTRATOS_ASSESSORIA':'BASE'}, inplace=True)\n",
    "consolidacao = consolidacao[['BASE']]"
   ]
  },
  {
   "cell_type": "code",
   "execution_count": 16,
   "metadata": {},
   "outputs": [],
   "source": [
    "qcon = ''' \n",
    "\n",
    "select \n",
    "customer_document\n",
    "from consolidacao_carteira.customer_39 c \n",
    "\n",
    "'''\n",
    "\n",
    "qcon = sql_df(qcon)\n",
    "qcon.rename(columns={'customer_document':'Consolidacao'}, inplace=True)"
   ]
  },
  {
   "cell_type": "code",
   "execution_count": 17,
   "metadata": {},
   "outputs": [],
   "source": [
    "importacao = com.merge(importacao, left_on='BASE', right_on='Importados', how='left')\n",
    "consolidacao = consolidacao.merge(qcon, left_on='BASE', right_on='Consolidacao', how='left')"
   ]
  },
  {
   "cell_type": "code",
   "execution_count": 18,
   "metadata": {},
   "outputs": [],
   "source": [
    "n_importados = pd.DataFrame(importacao.isnull().sum(), columns=['Total Não Importado'])\n",
    "n_importados['Percentual da Base'] = round((n_importados['Total Não Importado'] / len(com)).astype(float) * 100)"
   ]
  },
  {
   "cell_type": "code",
   "execution_count": 21,
   "metadata": {},
   "outputs": [],
   "source": [
    "n_consolidados = pd.DataFrame(consolidacao.isnull().sum(), columns=['Total Não Consolidado'])\n",
    "n_consolidados['Percentual da Base'] = round((n_consolidados['Total Não Consolidado'] / len(qcon)).astype(float) * 100)"
   ]
  },
  {
   "cell_type": "code",
   "execution_count": 19,
   "metadata": {},
   "outputs": [
    {
     "data": {
      "text/html": [
       "<div>\n",
       "<style scoped>\n",
       "    .dataframe tbody tr th:only-of-type {\n",
       "        vertical-align: middle;\n",
       "    }\n",
       "\n",
       "    .dataframe tbody tr th {\n",
       "        vertical-align: top;\n",
       "    }\n",
       "\n",
       "    .dataframe thead th {\n",
       "        text-align: right;\n",
       "    }\n",
       "</style>\n",
       "<table border=\"1\" class=\"dataframe\">\n",
       "  <thead>\n",
       "    <tr style=\"text-align: right;\">\n",
       "      <th></th>\n",
       "      <th>Total Não Importado</th>\n",
       "      <th>Percentual da Base</th>\n",
       "    </tr>\n",
       "  </thead>\n",
       "  <tbody>\n",
       "    <tr>\n",
       "      <th>BASE</th>\n",
       "      <td>0</td>\n",
       "      <td>0</td>\n",
       "    </tr>\n",
       "    <tr>\n",
       "      <th>Importados</th>\n",
       "      <td>11939</td>\n",
       "      <td>3</td>\n",
       "    </tr>\n",
       "  </tbody>\n",
       "</table>\n",
       "</div>"
      ],
      "text/plain": [
       "            Total Não Importado  Percentual da Base\n",
       "BASE                          0                   0\n",
       "Importados                11939                   3"
      ]
     },
     "execution_count": 19,
     "metadata": {},
     "output_type": "execute_result"
    }
   ],
   "source": [
    "n_importados"
   ]
  },
  {
   "cell_type": "code",
   "execution_count": 22,
   "metadata": {},
   "outputs": [
    {
     "data": {
      "text/html": [
       "<div>\n",
       "<style scoped>\n",
       "    .dataframe tbody tr th:only-of-type {\n",
       "        vertical-align: middle;\n",
       "    }\n",
       "\n",
       "    .dataframe tbody tr th {\n",
       "        vertical-align: top;\n",
       "    }\n",
       "\n",
       "    .dataframe thead th {\n",
       "        text-align: right;\n",
       "    }\n",
       "</style>\n",
       "<table border=\"1\" class=\"dataframe\">\n",
       "  <thead>\n",
       "    <tr style=\"text-align: right;\">\n",
       "      <th></th>\n",
       "      <th>Total Não Consolidado</th>\n",
       "      <th>Percentual da Base</th>\n",
       "    </tr>\n",
       "  </thead>\n",
       "  <tbody>\n",
       "    <tr>\n",
       "      <th>BASE</th>\n",
       "      <td>0</td>\n",
       "      <td>0</td>\n",
       "    </tr>\n",
       "    <tr>\n",
       "      <th>Consolidacao</th>\n",
       "      <td>13226</td>\n",
       "      <td>4</td>\n",
       "    </tr>\n",
       "  </tbody>\n",
       "</table>\n",
       "</div>"
      ],
      "text/plain": [
       "              Total Não Consolidado  Percentual da Base\n",
       "BASE                              0                   0\n",
       "Consolidacao                  13226                   4"
      ]
     },
     "execution_count": 22,
     "metadata": {},
     "output_type": "execute_result"
    }
   ],
   "source": [
    "n_consolidados"
   ]
  }
 ],
 "metadata": {
  "kernelspec": {
   "display_name": "base",
   "language": "python",
   "name": "python3"
  },
  "language_info": {
   "codemirror_mode": {
    "name": "ipython",
    "version": 3
   },
   "file_extension": ".py",
   "mimetype": "text/x-python",
   "name": "python",
   "nbconvert_exporter": "python",
   "pygments_lexer": "ipython3",
   "version": "3.11.5"
  }
 },
 "nbformat": 4,
 "nbformat_minor": 2
}

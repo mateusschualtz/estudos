{
 "cells": [
  {
   "cell_type": "code",
   "execution_count": 1,
   "metadata": {},
   "outputs": [],
   "source": [
    "import pandas as pd\n",
    "import polars as pl\n",
    "import datetime as dt\n",
    "from sqlalchemy import create_engine, inspect, text\n",
    "import os"
   ]
  },
  {
   "cell_type": "code",
   "execution_count": 2,
   "metadata": {},
   "outputs": [],
   "source": [
    "engine = create_engine(os.environ[\"REDSHIFT_READ_URI\"], echo=False)\n",
    "\n",
    "def sql_df(query):\n",
    "  with engine.connect() as conexao:\n",
    "    consulta = conexao.execute(text(query))\n",
    "    dados = consulta.fetchall()\n",
    "  df = pd.DataFrame(dados, columns= consulta.keys())\n",
    "  return df"
   ]
  },
  {
   "cell_type": "code",
   "execution_count": 18,
   "metadata": {},
   "outputs": [],
   "source": [
    "query = ''' \n",
    "\n",
    "select \n",
    "deal_id,\n",
    "c.customer_id,\n",
    "customer_document,\n",
    "d.days_of_delay base\n",
    "from consolidacao_carteira.deal_39 d\n",
    "left join consolidacao_carteira.customer_39 c on d.deal_id = c.best_deal_id \n",
    "where d.days_of_delay >= 75 and is_hot is true\n",
    "order by days_of_delay  \n",
    "\n",
    "'''\n"
   ]
  },
  {
   "cell_type": "code",
   "execution_count": 14,
   "metadata": {},
   "outputs": [],
   "source": [
    "consulta = sql_df(query)"
   ]
  },
  {
   "cell_type": "code",
   "execution_count": 20,
   "metadata": {},
   "outputs": [],
   "source": [
    "consulta['type'] = 'CLUSTER'\n",
    "consulta['key'] = 'TESTE_CLUSTER'\n",
    "consulta['creditor_id'] = 1 \n",
    "consulta['expire_at'] = '2024-08-15 00:00:00.000'"
   ]
  },
  {
   "cell_type": "markdown",
   "metadata": {},
   "source": [
    "# Para Exportar em CSV"
   ]
  },
  {
   "cell_type": "code",
   "execution_count": 17,
   "metadata": {},
   "outputs": [],
   "source": [
    "nome_aquivo = 'Base_Digio'\n",
    "consulta.to_csv(f'{nome_aquivo}.csv', index=False)"
   ]
  }
 ],
 "metadata": {
  "kernelspec": {
   "display_name": "base",
   "language": "python",
   "name": "python3"
  },
  "language_info": {
   "codemirror_mode": {
    "name": "ipython",
    "version": 3
   },
   "file_extension": ".py",
   "mimetype": "text/x-python",
   "name": "python",
   "nbconvert_exporter": "python",
   "pygments_lexer": "ipython3",
   "version": "3.11.5"
  }
 },
 "nbformat": 4,
 "nbformat_minor": 2
}

{
 "cells": [
  {
   "cell_type": "code",
   "execution_count": 28,
   "metadata": {},
   "outputs": [],
   "source": [
    "import pandas as pd\n",
    "from sqlalchemy import create_engine, inspect, text\n",
    "import os\n"
   ]
  },
  {
   "cell_type": "code",
   "execution_count": 24,
   "metadata": {},
   "outputs": [],
   "source": [
    "df06 = pd.read_excel(\"C:\\\\Users\\\\mateus.schualtz\\\\Downloads\\\\Base_Faturamento_quiteja_062024.xlsx\")\n",
    "df07 = pd.read_excel(\"C:\\\\Users\\\\mateus.schualtz\\\\Downloads\\\\Base_Faturamento_quiteja_072024.xlsx\")"
   ]
  },
  {
   "cell_type": "code",
   "execution_count": 30,
   "metadata": {},
   "outputs": [],
   "source": [
    "engine = create_engine(os.environ[\"REDSHIFT_READ_URI\"], echo=False)\n",
    "\n",
    "def sql_df(query):\n",
    "  with engine.connect() as conexao:\n",
    "    consulta = conexao.execute(text(query))\n",
    "    dados = consulta.fetchall()\n",
    "  df = pd.DataFrame(dados, columns= consulta.keys())\n",
    "  return df"
   ]
  },
  {
   "cell_type": "code",
   "execution_count": 27,
   "metadata": {},
   "outputs": [],
   "source": [
    "#Junho\n",
    "\n",
    "df06['NUM_CPF'] = df06['NUM_CPF'].astype(str)\n",
    "df06['NUM_CPF'] = df06['NUM_CPF'].str.zfill(11)\n",
    "\n",
    "#Julho \n",
    "\n",
    "df07['num_cpf'] = df07['num_cpf'].astype(str)\n",
    "df07['num_cpf'] = df07['num_cpf'].str.zfill(11)"
   ]
  },
  {
   "cell_type": "code",
   "execution_count": 31,
   "metadata": {},
   "outputs": [],
   "source": [
    "query = '''   \n",
    "\n",
    "a\n",
    "\n",
    "\n",
    "\n",
    "\n",
    "\n",
    "'''"
   ]
  }
 ],
 "metadata": {
  "kernelspec": {
   "display_name": "base",
   "language": "python",
   "name": "python3"
  },
  "language_info": {
   "codemirror_mode": {
    "name": "ipython",
    "version": 3
   },
   "file_extension": ".py",
   "mimetype": "text/x-python",
   "name": "python",
   "nbconvert_exporter": "python",
   "pygments_lexer": "ipython3",
   "version": "3.11.5"
  }
 },
 "nbformat": 4,
 "nbformat_minor": 2
}

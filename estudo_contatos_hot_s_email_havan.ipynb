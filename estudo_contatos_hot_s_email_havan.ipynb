{
 "cells": [
  {
   "cell_type": "code",
   "execution_count": 4,
   "metadata": {},
   "outputs": [],
   "source": [
    "import pandas as pd\n",
    "from sqlalchemy import create_engine, inspect, text\n",
    "import os"
   ]
  },
  {
   "cell_type": "code",
   "execution_count": 8,
   "metadata": {},
   "outputs": [],
   "source": [
    "engine = create_engine(os.environ[\"REDSHIFT_READ_URI\"], echo=False)\n",
    "\n",
    "def sql_df(query):\n",
    "  with engine.connect() as conexao:\n",
    "    consulta = conexao.execute(text(query))\n",
    "    dados = consulta.fetchall()\n",
    "  df = pd.DataFrame(dados, columns= consulta.keys())\n",
    "  return df"
   ]
  },
  {
   "cell_type": "code",
   "execution_count": 10,
   "metadata": {},
   "outputs": [],
   "source": [
    "query = '''\n",
    "select \n",
    "*\n",
    "from consolidacao_carteira.contact_37 c\n",
    "where has_hot is true and contact_type = 'CELLPHONE'\n",
    "'''\n",
    "\n",
    "df = sql_df(query)"
   ]
  },
  {
   "cell_type": "code",
   "execution_count": 9,
   "metadata": {},
   "outputs": [],
   "source": [
    "query2 = '''\n",
    "select \n",
    "*\n",
    "from consolidacao_carteira.contact_37 c\n",
    "where contact_type = 'EMAIL'\n",
    "'''\n",
    "\n",
    "df_email = sql_df(query2)"
   ]
  },
  {
   "cell_type": "code",
   "execution_count": 11,
   "metadata": {},
   "outputs": [],
   "source": [
    "cell_hot =  df.groupby('customer_id').agg('max','contact_final_score').reset_index()"
   ]
  },
  {
   "cell_type": "code",
   "execution_count": 12,
   "metadata": {},
   "outputs": [],
   "source": [
    "df_final = cell_hot[~cell_hot['customer_id'].isin(df_email['customer_id'])].reset_index().sort_values('notify_count', ascending = False)\n",
    "df_final = df_final[['customer_id','contact_id','notify_count']]"
   ]
  },
  {
   "cell_type": "code",
   "execution_count": 14,
   "metadata": {},
   "outputs": [],
   "source": [
    "df_final.to_csv('hot_sem_email.csv')"
   ]
  }
 ],
 "metadata": {
  "kernelspec": {
   "display_name": "base",
   "language": "python",
   "name": "python3"
  },
  "language_info": {
   "codemirror_mode": {
    "name": "ipython",
    "version": 3
   },
   "file_extension": ".py",
   "mimetype": "text/x-python",
   "name": "python",
   "nbconvert_exporter": "python",
   "pygments_lexer": "ipython3",
   "version": "3.11.5"
  }
 },
 "nbformat": 4,
 "nbformat_minor": 2
}
